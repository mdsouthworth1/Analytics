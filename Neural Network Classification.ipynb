{
 "cells": [
  {
   "cell_type": "markdown",
   "metadata": {},
   "source": [
    "This data set is available by MIT. This is a multiclass classification model to determine if heartbeats are normal or contain abnormalities."
   ]
  },
  {
   "cell_type": "markdown",
   "metadata": {},
   "source": [
    "# Description\n",
    "\n",
    "The dataset contains measurements with 80 time steps and each time step has one measurement. \n",
    "They are labeled from T1 to T80 and classified in the following categories:\n",
    "\n",
    "0 = Normal\n",
    "1 = Supraventricular premature beat\n",
    "2 = Premature ventricular contraction\n",
    "3 = Fusion of ventricular and normal beat\n",
    "4 = Unclassifiable beat"
   ]
  },
  {
   "cell_type": "markdown",
   "metadata": {},
   "source": [
    "## Goal\n",
    "\n",
    "Use the data set **hearbeat_cleaned.csv** to predict the column called **Target**. The input variables are columns labeled as **T1 to T80**. "
   ]
  },
  {
   "cell_type": "markdown",
   "metadata": {},
   "source": [
    "# Preparing the Data"
   ]
  },
  {
   "cell_type": "code",
   "execution_count": 1,
   "metadata": {},
   "outputs": [],
   "source": [
    "import numpy as np\n",
    "import pandas as pd\n",
    "import tensorflow as tf\n",
    "from tensorflow import keras\n",
    "from keras.models import Sequential\n",
    "np.random.seed(63829204)\n",
    "tf.random.set_seed(63829204)"
   ]
  },
  {
   "cell_type": "code",
   "execution_count": 2,
   "metadata": {},
   "outputs": [],
   "source": [
    "heart = pd.read_csv(r\"./heartbeat_cleaned.csv\")"
   ]
  },
  {
   "cell_type": "code",
   "execution_count": 3,
   "metadata": {},
   "outputs": [
    {
     "data": {
      "text/html": [
       "<div>\n",
       "<style scoped>\n",
       "    .dataframe tbody tr th:only-of-type {\n",
       "        vertical-align: middle;\n",
       "    }\n",
       "\n",
       "    .dataframe tbody tr th {\n",
       "        vertical-align: top;\n",
       "    }\n",
       "\n",
       "    .dataframe thead th {\n",
       "        text-align: right;\n",
       "    }\n",
       "</style>\n",
       "<table border=\"1\" class=\"dataframe\">\n",
       "  <thead>\n",
       "    <tr style=\"text-align: right;\">\n",
       "      <th></th>\n",
       "      <th>T1</th>\n",
       "      <th>T2</th>\n",
       "      <th>T3</th>\n",
       "      <th>T4</th>\n",
       "      <th>T5</th>\n",
       "      <th>T6</th>\n",
       "      <th>T7</th>\n",
       "      <th>T8</th>\n",
       "      <th>T9</th>\n",
       "      <th>T10</th>\n",
       "      <th>...</th>\n",
       "      <th>T72</th>\n",
       "      <th>T73</th>\n",
       "      <th>T74</th>\n",
       "      <th>T75</th>\n",
       "      <th>T76</th>\n",
       "      <th>T77</th>\n",
       "      <th>T78</th>\n",
       "      <th>T79</th>\n",
       "      <th>T80</th>\n",
       "      <th>Target</th>\n",
       "    </tr>\n",
       "  </thead>\n",
       "  <tbody>\n",
       "    <tr>\n",
       "      <th>0</th>\n",
       "      <td>0.987</td>\n",
       "      <td>0.892</td>\n",
       "      <td>0.461</td>\n",
       "      <td>0.1130</td>\n",
       "      <td>0.1490</td>\n",
       "      <td>0.1900</td>\n",
       "      <td>0.1650</td>\n",
       "      <td>0.1620</td>\n",
       "      <td>0.1470</td>\n",
       "      <td>0.1380</td>\n",
       "      <td>...</td>\n",
       "      <td>0.1970</td>\n",
       "      <td>0.1970</td>\n",
       "      <td>0.1960</td>\n",
       "      <td>0.2030</td>\n",
       "      <td>0.201</td>\n",
       "      <td>0.1990</td>\n",
       "      <td>0.2010</td>\n",
       "      <td>0.205</td>\n",
       "      <td>0.2080</td>\n",
       "      <td>0</td>\n",
       "    </tr>\n",
       "    <tr>\n",
       "      <th>1</th>\n",
       "      <td>1.000</td>\n",
       "      <td>0.918</td>\n",
       "      <td>0.621</td>\n",
       "      <td>0.1330</td>\n",
       "      <td>0.1050</td>\n",
       "      <td>0.1250</td>\n",
       "      <td>0.1170</td>\n",
       "      <td>0.0898</td>\n",
       "      <td>0.0703</td>\n",
       "      <td>0.0781</td>\n",
       "      <td>...</td>\n",
       "      <td>0.1950</td>\n",
       "      <td>0.1910</td>\n",
       "      <td>0.1520</td>\n",
       "      <td>0.1720</td>\n",
       "      <td>0.207</td>\n",
       "      <td>0.2110</td>\n",
       "      <td>0.2070</td>\n",
       "      <td>0.207</td>\n",
       "      <td>0.1720</td>\n",
       "      <td>0</td>\n",
       "    </tr>\n",
       "    <tr>\n",
       "      <th>2</th>\n",
       "      <td>1.000</td>\n",
       "      <td>0.751</td>\n",
       "      <td>0.143</td>\n",
       "      <td>0.1040</td>\n",
       "      <td>0.0961</td>\n",
       "      <td>0.0519</td>\n",
       "      <td>0.0442</td>\n",
       "      <td>0.0416</td>\n",
       "      <td>0.0364</td>\n",
       "      <td>0.0857</td>\n",
       "      <td>...</td>\n",
       "      <td>0.2260</td>\n",
       "      <td>0.2420</td>\n",
       "      <td>0.2440</td>\n",
       "      <td>0.2860</td>\n",
       "      <td>0.468</td>\n",
       "      <td>0.8160</td>\n",
       "      <td>0.9770</td>\n",
       "      <td>0.452</td>\n",
       "      <td>0.0519</td>\n",
       "      <td>0</td>\n",
       "    </tr>\n",
       "    <tr>\n",
       "      <th>3</th>\n",
       "      <td>1.000</td>\n",
       "      <td>0.740</td>\n",
       "      <td>0.235</td>\n",
       "      <td>0.0464</td>\n",
       "      <td>0.0722</td>\n",
       "      <td>0.0567</td>\n",
       "      <td>0.0103</td>\n",
       "      <td>0.0155</td>\n",
       "      <td>0.0284</td>\n",
       "      <td>0.0155</td>\n",
       "      <td>...</td>\n",
       "      <td>0.0851</td>\n",
       "      <td>0.0747</td>\n",
       "      <td>0.0515</td>\n",
       "      <td>0.0593</td>\n",
       "      <td>0.067</td>\n",
       "      <td>0.0361</td>\n",
       "      <td>0.1210</td>\n",
       "      <td>0.451</td>\n",
       "      <td>0.8690</td>\n",
       "      <td>0</td>\n",
       "    </tr>\n",
       "    <tr>\n",
       "      <th>4</th>\n",
       "      <td>1.000</td>\n",
       "      <td>0.833</td>\n",
       "      <td>0.309</td>\n",
       "      <td>0.0191</td>\n",
       "      <td>0.1010</td>\n",
       "      <td>0.1200</td>\n",
       "      <td>0.1040</td>\n",
       "      <td>0.0874</td>\n",
       "      <td>0.0765</td>\n",
       "      <td>0.0765</td>\n",
       "      <td>...</td>\n",
       "      <td>0.2050</td>\n",
       "      <td>0.4210</td>\n",
       "      <td>0.8030</td>\n",
       "      <td>0.9510</td>\n",
       "      <td>0.467</td>\n",
       "      <td>0.0000</td>\n",
       "      <td>0.0519</td>\n",
       "      <td>0.082</td>\n",
       "      <td>0.0628</td>\n",
       "      <td>0</td>\n",
       "    </tr>\n",
       "  </tbody>\n",
       "</table>\n",
       "<p>5 rows × 81 columns</p>\n",
       "</div>"
      ],
      "text/plain": [
       "      T1     T2     T3      T4      T5      T6      T7      T8      T9  \\\n",
       "0  0.987  0.892  0.461  0.1130  0.1490  0.1900  0.1650  0.1620  0.1470   \n",
       "1  1.000  0.918  0.621  0.1330  0.1050  0.1250  0.1170  0.0898  0.0703   \n",
       "2  1.000  0.751  0.143  0.1040  0.0961  0.0519  0.0442  0.0416  0.0364   \n",
       "3  1.000  0.740  0.235  0.0464  0.0722  0.0567  0.0103  0.0155  0.0284   \n",
       "4  1.000  0.833  0.309  0.0191  0.1010  0.1200  0.1040  0.0874  0.0765   \n",
       "\n",
       "      T10  ...     T72     T73     T74     T75    T76     T77     T78    T79  \\\n",
       "0  0.1380  ...  0.1970  0.1970  0.1960  0.2030  0.201  0.1990  0.2010  0.205   \n",
       "1  0.0781  ...  0.1950  0.1910  0.1520  0.1720  0.207  0.2110  0.2070  0.207   \n",
       "2  0.0857  ...  0.2260  0.2420  0.2440  0.2860  0.468  0.8160  0.9770  0.452   \n",
       "3  0.0155  ...  0.0851  0.0747  0.0515  0.0593  0.067  0.0361  0.1210  0.451   \n",
       "4  0.0765  ...  0.2050  0.4210  0.8030  0.9510  0.467  0.0000  0.0519  0.082   \n",
       "\n",
       "      T80  Target  \n",
       "0  0.2080       0  \n",
       "1  0.1720       0  \n",
       "2  0.0519       0  \n",
       "3  0.8690       0  \n",
       "4  0.0628       0  \n",
       "\n",
       "[5 rows x 81 columns]"
      ]
     },
     "execution_count": 3,
     "metadata": {},
     "output_type": "execute_result"
    }
   ],
   "source": [
    "heart.head()"
   ]
  },
  {
   "cell_type": "code",
   "execution_count": 4,
   "metadata": {},
   "outputs": [
    {
     "data": {
      "text/plain": [
       "(7960, 81)"
      ]
     },
     "execution_count": 4,
     "metadata": {},
     "output_type": "execute_result"
    }
   ],
   "source": [
    "heart.shape"
   ]
  },
  {
   "cell_type": "code",
   "execution_count": 5,
   "metadata": {},
   "outputs": [
    {
     "data": {
      "text/plain": [
       "array([0, 1, 2, 3, 4], dtype=int64)"
      ]
     },
     "execution_count": 5,
     "metadata": {},
     "output_type": "execute_result"
    }
   ],
   "source": [
    "heart['Target'].unique()"
   ]
  },
  {
   "cell_type": "code",
   "execution_count": 6,
   "metadata": {},
   "outputs": [],
   "source": [
    "y = heart['Target']\n",
    "x = heart.drop('Target', axis=1)"
   ]
  },
  {
   "cell_type": "code",
   "execution_count": 7,
   "metadata": {},
   "outputs": [],
   "source": [
    "from sklearn.model_selection import train_test_split\n",
    " \n",
    "train_x, test_x, train_y, test_y = train_test_split(x, y, test_size=0.2)"
   ]
  },
  {
   "cell_type": "markdown",
   "metadata": {},
   "source": [
    "# Data Transformation"
   ]
  },
  {
   "cell_type": "code",
   "execution_count": 8,
   "metadata": {},
   "outputs": [],
   "source": [
    "train_y = np.array(train_y)\n",
    "test_y = np.array(test_y)"
   ]
  },
  {
   "cell_type": "code",
   "execution_count": 9,
   "metadata": {},
   "outputs": [
    {
     "data": {
      "text/plain": [
       "array([4, 4, 2, 1, 0, 0, 0, 0, 0, 2], dtype=int64)"
      ]
     },
     "execution_count": 9,
     "metadata": {},
     "output_type": "execute_result"
    }
   ],
   "source": [
    "train_y[0:10]"
   ]
  },
  {
   "cell_type": "code",
   "execution_count": 10,
   "metadata": {},
   "outputs": [],
   "source": [
    "train_x = np.array(train_x)\n",
    "test_x = np.array(test_x)\n",
    "\n",
    "train_x = train_x.astype(np.float32)\n",
    "test_x = test_x.astype(np.float32)"
   ]
  },
  {
   "cell_type": "code",
   "execution_count": 11,
   "metadata": {},
   "outputs": [
    {
     "data": {
      "text/plain": [
       "array([[0.964 , 0.478 , 0.481 , ..., 0.353 , 0.338 , 0.344 ],\n",
       "       [1.    , 0.535 , 0.581 , ..., 0.221 , 0.198 , 0.189 ],\n",
       "       [0.    , 0.0332, 0.0452, ..., 0.335 , 0.309 , 0.312 ],\n",
       "       ...,\n",
       "       [0.958 , 0.953 , 0.708 , ..., 0.0729, 0.0833, 0.0781],\n",
       "       [0.948 , 0.817 , 0.187 , ..., 0.0835, 0.0875, 0.0855],\n",
       "       [0.797 , 0.131 , 0.0254, ..., 0.428 , 0.403 , 0.428 ]],\n",
       "      dtype=float32)"
      ]
     },
     "execution_count": 11,
     "metadata": {},
     "output_type": "execute_result"
    }
   ],
   "source": [
    "train_x"
   ]
  },
  {
   "cell_type": "code",
   "execution_count": 12,
   "metadata": {},
   "outputs": [],
   "source": [
    "#Reshape training data for keras input\n",
    "train_x = np.reshape(train_x, (train_x.shape[0], train_x.shape[1], 1))\n",
    "test_x = np.reshape(test_x, (test_x.shape[0], test_x.shape[1], 1))"
   ]
  },
  {
   "cell_type": "code",
   "execution_count": 13,
   "metadata": {},
   "outputs": [
    {
     "data": {
      "text/plain": [
       "((6368, 80, 1), (1592, 80, 1))"
      ]
     },
     "execution_count": 13,
     "metadata": {},
     "output_type": "execute_result"
    }
   ],
   "source": [
    "train_x.shape, test_x.shape"
   ]
  },
  {
   "cell_type": "markdown",
   "metadata": {},
   "source": [
    "# Finding the baseline"
   ]
  },
  {
   "cell_type": "code",
   "execution_count": 14,
   "metadata": {},
   "outputs": [
    {
     "data": {
      "text/plain": [
       "0    4633\n",
       "4    1584\n",
       "2    1237\n",
       "1     445\n",
       "3      61\n",
       "Name: Target, dtype: int64"
      ]
     },
     "execution_count": 14,
     "metadata": {},
     "output_type": "execute_result"
    }
   ],
   "source": [
    "heart['Target'].value_counts()"
   ]
  },
  {
   "cell_type": "code",
   "execution_count": 15,
   "metadata": {
    "scrolled": false
   },
   "outputs": [
    {
     "data": {
      "text/plain": [
       "0    0.582035\n",
       "4    0.198995\n",
       "2    0.155402\n",
       "1    0.055905\n",
       "3    0.007663\n",
       "Name: Target, dtype: float64"
      ]
     },
     "execution_count": 15,
     "metadata": {},
     "output_type": "execute_result"
    }
   ],
   "source": [
    "heart['Target'].value_counts()/len(heart)"
   ]
  },
  {
   "cell_type": "markdown",
   "metadata": {},
   "source": [
    "# Baseline is 58.2% accuracy"
   ]
  },
  {
   "cell_type": "code",
   "execution_count": 16,
   "metadata": {},
   "outputs": [
    {
     "data": {
      "text/plain": [
       "7960"
      ]
     },
     "execution_count": 16,
     "metadata": {},
     "output_type": "execute_result"
    }
   ],
   "source": [
    "heart['Target'].count()"
   ]
  },
  {
   "cell_type": "markdown",
   "metadata": {},
   "source": [
    "# A cross-sectional deep model using Keras"
   ]
  },
  {
   "cell_type": "code",
   "execution_count": 21,
   "metadata": {},
   "outputs": [],
   "source": [
    "model = keras.models.Sequential([\n",
    "    \n",
    "    keras.layers.Flatten(input_shape=[80, 1]),\n",
    "    keras.layers.Dense(80, activation='relu'),\n",
    "    keras.layers.Dense(40, activation='relu'),\n",
    "    keras.layers.Dense(20, activation='relu'),\n",
    "    keras.layers.Dense(5, activation='softmax'),\n",
    "    \n",
    "])"
   ]
  },
  {
   "cell_type": "code",
   "execution_count": 22,
   "metadata": {},
   "outputs": [
    {
     "name": "stdout",
     "output_type": "stream",
     "text": [
      "Epoch 1/15\n",
      "199/199 [==============================] - 3s 5ms/step - loss: 0.6849 - accuracy: 0.7629 - val_loss: 0.7193 - val_accuracy: 0.7406\n",
      "Epoch 2/15\n",
      "199/199 [==============================] - 1s 4ms/step - loss: 0.4436 - accuracy: 0.8502 - val_loss: 0.4531 - val_accuracy: 0.8342\n",
      "Epoch 3/15\n",
      "199/199 [==============================] - 1s 3ms/step - loss: 0.3872 - accuracy: 0.8752 - val_loss: 0.4067 - val_accuracy: 0.8505\n",
      "Epoch 4/15\n",
      "199/199 [==============================] - 1s 3ms/step - loss: 0.3403 - accuracy: 0.8905 - val_loss: 0.3485 - val_accuracy: 0.8863\n",
      "Epoch 5/15\n",
      "199/199 [==============================] - 1s 3ms/step - loss: 0.3093 - accuracy: 0.9031 - val_loss: 0.3085 - val_accuracy: 0.9083\n",
      "Epoch 6/15\n",
      "199/199 [==============================] - 1s 3ms/step - loss: 0.2774 - accuracy: 0.9125 - val_loss: 0.5185 - val_accuracy: 0.8518\n",
      "Epoch 7/15\n",
      "199/199 [==============================] - 1s 3ms/step - loss: 0.2744 - accuracy: 0.9119 - val_loss: 0.3006 - val_accuracy: 0.9070\n",
      "Epoch 8/15\n",
      "199/199 [==============================] - 1s 3ms/step - loss: 0.2501 - accuracy: 0.9223 - val_loss: 0.3158 - val_accuracy: 0.8913\n",
      "Epoch 9/15\n",
      "199/199 [==============================] - 1s 3ms/step - loss: 0.2504 - accuracy: 0.9223 - val_loss: 0.2496 - val_accuracy: 0.9271\n",
      "Epoch 10/15\n",
      "199/199 [==============================] - 1s 3ms/step - loss: 0.2271 - accuracy: 0.9279 - val_loss: 0.2512 - val_accuracy: 0.9259\n",
      "Epoch 11/15\n",
      "199/199 [==============================] - 1s 4ms/step - loss: 0.2113 - accuracy: 0.9355 - val_loss: 0.2535 - val_accuracy: 0.9271\n",
      "Epoch 12/15\n",
      "199/199 [==============================] - 1s 3ms/step - loss: 0.2125 - accuracy: 0.9322 - val_loss: 0.2830 - val_accuracy: 0.9114\n",
      "Epoch 13/15\n",
      "199/199 [==============================] - 1s 3ms/step - loss: 0.2062 - accuracy: 0.9372 - val_loss: 0.2359 - val_accuracy: 0.9372\n",
      "Epoch 14/15\n",
      "199/199 [==============================] - 1s 3ms/step - loss: 0.2115 - accuracy: 0.9339 - val_loss: 0.2471 - val_accuracy: 0.9259\n",
      "Epoch 15/15\n",
      "199/199 [==============================] - 1s 3ms/step - loss: 0.1939 - accuracy: 0.9383 - val_loss: 0.2294 - val_accuracy: 0.9372\n"
     ]
    }
   ],
   "source": [
    "optimizer = tf.keras.optimizers.Nadam(learning_rate=0.01)\n",
    "\n",
    "model.compile(loss=\"sparse_categorical_crossentropy\", optimizer=optimizer, metrics=['accuracy'])\n",
    "\n",
    "history = model.fit(train_x, train_y, epochs=15,\n",
    "                    validation_data=(test_x, test_y))"
   ]
  },
  {
   "cell_type": "code",
   "execution_count": 23,
   "metadata": {},
   "outputs": [
    {
     "data": {
      "text/plain": [
       "[0.2293974757194519, 0.9371859431266785]"
      ]
     },
     "execution_count": 23,
     "metadata": {},
     "output_type": "execute_result"
    }
   ],
   "source": [
    "# Score to evaluate the cross sectional Keras mdoel\n",
    "\n",
    "scores = model.evaluate(test_x, test_y, verbose=0)\n",
    "\n",
    "scores"
   ]
  },
  {
   "cell_type": "code",
   "execution_count": 24,
   "metadata": {
    "scrolled": true
   },
   "outputs": [
    {
     "name": "stdout",
     "output_type": "stream",
     "text": [
      "loss: 0.229\n",
      "accuracy: 93.72%\n"
     ]
    }
   ],
   "source": [
    "print(f'{model.metrics_names[0]}: {round(scores[0],3)}')\n",
    "print(f'{model.metrics_names[1]}: {round(scores[1]*100,2)}%')"
   ]
  },
  {
   "cell_type": "markdown",
   "metadata": {},
   "source": [
    "# Starting with a shallow LSTM model"
   ]
  },
  {
   "cell_type": "code",
   "execution_count": 120,
   "metadata": {},
   "outputs": [],
   "source": [
    "model = keras.models.Sequential([\n",
    "    \n",
    "    keras.layers.LSTM(80, activation='relu',  input_shape=[80, 1]),\n",
    "    keras.layers.Dense(5, activation='softmax')\n",
    "    \n",
    "])"
   ]
  },
  {
   "cell_type": "code",
   "execution_count": 121,
   "metadata": {},
   "outputs": [
    {
     "name": "stdout",
     "output_type": "stream",
     "text": [
      "Epoch 1/15\n",
      "199/199 [==============================] - 11s 47ms/step - loss: 18642782289657856.0000 - accuracy: 0.5795 - val_loss: 1.1552 - val_accuracy: 0.5817\n",
      "Epoch 2/15\n",
      "199/199 [==============================] - 9s 46ms/step - loss: 1.1276 - accuracy: 0.5821 - val_loss: 1.1411 - val_accuracy: 0.5817\n",
      "Epoch 3/15\n",
      "199/199 [==============================] - 9s 44ms/step - loss: 1.1172 - accuracy: 0.5821 - val_loss: 1.1316 - val_accuracy: 0.5817\n",
      "Epoch 4/15\n",
      "199/199 [==============================] - 9s 43ms/step - loss: 1.1106 - accuracy: 0.5821 - val_loss: 1.1270 - val_accuracy: 0.5817\n",
      "Epoch 5/15\n",
      "199/199 [==============================] - 8s 39ms/step - loss: 1.1054 - accuracy: 0.5821 - val_loss: 1.1228 - val_accuracy: 0.5817\n",
      "Epoch 6/15\n",
      "199/199 [==============================] - 9s 48ms/step - loss: 1.1011 - accuracy: 0.5821 - val_loss: 1.1155 - val_accuracy: 0.5817\n",
      "Epoch 7/15\n",
      "199/199 [==============================] - 9s 43ms/step - loss: 1.0970 - accuracy: 0.5821 - val_loss: 1.1122 - val_accuracy: 0.5817\n",
      "Epoch 8/15\n",
      "199/199 [==============================] - 9s 44ms/step - loss: 1.0930 - accuracy: 0.5821 - val_loss: 1.1096 - val_accuracy: 0.5817\n",
      "Epoch 9/15\n",
      "199/199 [==============================] - 9s 44ms/step - loss: 1.0896 - accuracy: 0.5821 - val_loss: 1.1049 - val_accuracy: 0.5817\n",
      "Epoch 10/15\n",
      "199/199 [==============================] - 9s 45ms/step - loss: 1.0864 - accuracy: 0.5821 - val_loss: 1.1016 - val_accuracy: 0.5817\n",
      "Epoch 11/15\n",
      "199/199 [==============================] - 9s 46ms/step - loss: 1.0834 - accuracy: 0.5821 - val_loss: 1.0989 - val_accuracy: 0.5817\n",
      "Epoch 12/15\n",
      "199/199 [==============================] - 9s 47ms/step - loss: 1.0807 - accuracy: 0.5821 - val_loss: 1.0967 - val_accuracy: 0.5817\n",
      "Epoch 13/15\n",
      "199/199 [==============================] - 9s 43ms/step - loss: 1.0779 - accuracy: 0.5820 - val_loss: 1.0931 - val_accuracy: 0.5817\n",
      "Epoch 14/15\n",
      "199/199 [==============================] - 8s 42ms/step - loss: 1.0755 - accuracy: 0.5820 - val_loss: 1.0929 - val_accuracy: 0.5817\n",
      "Epoch 15/15\n",
      "199/199 [==============================] - 8s 42ms/step - loss: 1.0729 - accuracy: 0.5820 - val_loss: 1.0906 - val_accuracy: 0.5823\n"
     ]
    }
   ],
   "source": [
    "#Use instead of the model optimizer so as to be able to tune the learning rate\n",
    "optimizer = tf.keras.optimizers.Nadam(learning_rate=0.01)\n",
    "\n",
    "model.compile(loss=\"sparse_categorical_crossentropy\", optimizer=optimizer, metrics=['accuracy'])\n",
    "\n",
    "history = model.fit(train_x, train_y, epochs=15,\n",
    "                    validation_data=(test_x, test_y))"
   ]
  },
  {
   "cell_type": "code",
   "execution_count": 122,
   "metadata": {},
   "outputs": [
    {
     "data": {
      "text/plain": [
       "[1.090551495552063, 0.5822864174842834]"
      ]
     },
     "execution_count": 122,
     "metadata": {},
     "output_type": "execute_result"
    }
   ],
   "source": [
    "# Score to evaluate the cross sectional Keras mdoel\n",
    "\n",
    "scores = model.evaluate(test_x, test_y, verbose=0)\n",
    "\n",
    "scores"
   ]
  },
  {
   "cell_type": "code",
   "execution_count": 123,
   "metadata": {
    "scrolled": true
   },
   "outputs": [
    {
     "name": "stdout",
     "output_type": "stream",
     "text": [
      "loss: 1.091\n",
      "accuracy: 58.23%\n"
     ]
    }
   ],
   "source": [
    "print(f'{model.metrics_names[0]}: {round(scores[0],3)}')\n",
    "print(f'{model.metrics_names[1]}: {round(scores[1]*100,2)}%')"
   ]
  },
  {
   "cell_type": "markdown",
   "metadata": {},
   "source": [
    "# 2 Layer LSTM Model"
   ]
  },
  {
   "cell_type": "code",
   "execution_count": 108,
   "metadata": {},
   "outputs": [],
   "source": [
    "from tensorflow.keras.callbacks import EarlyStopping\n",
    "\n",
    "earlystop = EarlyStopping(monitor='val_loss', patience=3, mode='auto')"
   ]
  },
  {
   "cell_type": "code",
   "execution_count": 109,
   "metadata": {},
   "outputs": [],
   "source": [
    "model = keras.models.Sequential([\n",
    "    keras.layers.LSTM(80, return_sequences=True),\n",
    "    keras.layers.LSTM(20),\n",
    "    keras.layers.Dense(5, activation='softmax')\n",
    "])"
   ]
  },
  {
   "cell_type": "code",
   "execution_count": 110,
   "metadata": {},
   "outputs": [
    {
     "name": "stdout",
     "output_type": "stream",
     "text": [
      "Epoch 1/15\n",
      "199/199 [==============================] - 22s 81ms/step - loss: 1.1399 - accuracy: 0.5782 - val_loss: 1.1379 - val_accuracy: 0.5817\n",
      "Epoch 2/15\n",
      "199/199 [==============================] - 14s 71ms/step - loss: 1.0977 - accuracy: 0.5978 - val_loss: 1.0848 - val_accuracy: 0.6168\n",
      "Epoch 3/15\n",
      "199/199 [==============================] - 15s 74ms/step - loss: 1.0555 - accuracy: 0.6211 - val_loss: 1.0711 - val_accuracy: 0.6168\n",
      "Epoch 4/15\n",
      "199/199 [==============================] - 15s 74ms/step - loss: 1.0724 - accuracy: 0.6113 - val_loss: 1.1413 - val_accuracy: 0.5817\n",
      "Epoch 5/15\n",
      "199/199 [==============================] - 15s 74ms/step - loss: 1.1144 - accuracy: 0.5872 - val_loss: 1.1253 - val_accuracy: 0.5898\n",
      "Epoch 6/15\n",
      "199/199 [==============================] - 13s 66ms/step - loss: 1.1165 - accuracy: 0.5870 - val_loss: 1.1347 - val_accuracy: 0.5817\n"
     ]
    }
   ],
   "source": [
    "optimizer = keras.optimizers.Nadam(learning_rate=0.01)\n",
    "\n",
    "model.compile(loss=\"sparse_categorical_crossentropy\", optimizer=optimizer, metrics=['accuracy'])\n",
    "\n",
    "history = model.fit(train_x, train_y, epochs=15,\n",
    "                   validation_data = (test_x, test_y), callbacks=earlystop)"
   ]
  },
  {
   "cell_type": "code",
   "execution_count": 111,
   "metadata": {},
   "outputs": [
    {
     "data": {
      "text/plain": [
       "[1.134664535522461, 0.5816583037376404]"
      ]
     },
     "execution_count": 111,
     "metadata": {},
     "output_type": "execute_result"
    }
   ],
   "source": [
    "# Score to evaluate the cross sectional Keras mdoel\n",
    "\n",
    "scores = model.evaluate(test_x, test_y, verbose=0)\n",
    "\n",
    "scores"
   ]
  },
  {
   "cell_type": "code",
   "execution_count": 112,
   "metadata": {
    "scrolled": true
   },
   "outputs": [
    {
     "name": "stdout",
     "output_type": "stream",
     "text": [
      "loss: 1.135\n",
      "accuracy: 58.17%\n"
     ]
    }
   ],
   "source": [
    "print(f'{model.metrics_names[0]}: {round(scores[0],3)}')\n",
    "print(f'{model.metrics_names[1]}: {round(scores[1]*100,2)}%')"
   ]
  },
  {
   "cell_type": "markdown",
   "metadata": {},
   "source": [
    "# Sequential deep GRU Model"
   ]
  },
  {
   "cell_type": "code",
   "execution_count": 92,
   "metadata": {},
   "outputs": [],
   "source": [
    "model = keras.models.Sequential([\n",
    "    keras.layers.GRU(80, return_sequences=True),\n",
    "    keras.layers.GRU(40),\n",
    "    keras.layers.Dense(5, activation='softmax')\n",
    "])"
   ]
  },
  {
   "cell_type": "code",
   "execution_count": 96,
   "metadata": {
    "scrolled": true
   },
   "outputs": [
    {
     "name": "stdout",
     "output_type": "stream",
     "text": [
      "Epoch 1/15\n",
      "199/199 [==============================] - 17s 62ms/step - loss: 0.3799 - accuracy: 0.8805 - val_loss: 0.3898 - val_accuracy: 0.8719\n",
      "Epoch 2/15\n",
      "199/199 [==============================] - 10s 52ms/step - loss: 0.3723 - accuracy: 0.8825 - val_loss: 0.3765 - val_accuracy: 0.8756\n",
      "Epoch 3/15\n",
      "199/199 [==============================] - 11s 58ms/step - loss: 0.3593 - accuracy: 0.8916 - val_loss: 0.4088 - val_accuracy: 0.8693\n",
      "Epoch 4/15\n",
      "199/199 [==============================] - 12s 58ms/step - loss: 0.3453 - accuracy: 0.8937 - val_loss: 0.3712 - val_accuracy: 0.8882\n",
      "Epoch 5/15\n",
      "199/199 [==============================] - 11s 58ms/step - loss: 0.3437 - accuracy: 0.8912 - val_loss: 0.3717 - val_accuracy: 0.8844\n",
      "Epoch 6/15\n",
      "199/199 [==============================] - 12s 59ms/step - loss: 0.3276 - accuracy: 0.9000 - val_loss: 0.3489 - val_accuracy: 0.8945\n",
      "Epoch 7/15\n",
      "199/199 [==============================] - 12s 58ms/step - loss: 0.3247 - accuracy: 0.8986 - val_loss: 0.3417 - val_accuracy: 0.8957\n",
      "Epoch 8/15\n",
      "199/199 [==============================] - 11s 54ms/step - loss: 0.3099 - accuracy: 0.9055 - val_loss: 0.3569 - val_accuracy: 0.8945\n",
      "Epoch 9/15\n",
      "199/199 [==============================] - 11s 53ms/step - loss: 0.3031 - accuracy: 0.9092 - val_loss: 0.3178 - val_accuracy: 0.9045\n",
      "Epoch 10/15\n",
      "199/199 [==============================] - 11s 54ms/step - loss: 0.2980 - accuracy: 0.9070 - val_loss: 0.3174 - val_accuracy: 0.8964\n",
      "Epoch 11/15\n",
      "199/199 [==============================] - 12s 61ms/step - loss: 0.2891 - accuracy: 0.9149 - val_loss: 0.3121 - val_accuracy: 0.9058\n",
      "Epoch 12/15\n",
      "199/199 [==============================] - 12s 58ms/step - loss: 0.2855 - accuracy: 0.9094 - val_loss: 0.3061 - val_accuracy: 0.9039\n",
      "Epoch 13/15\n",
      "199/199 [==============================] - 10s 52ms/step - loss: 0.2736 - accuracy: 0.9179 - val_loss: 0.3188 - val_accuracy: 0.9020\n",
      "Epoch 14/15\n",
      "199/199 [==============================] - 11s 55ms/step - loss: 0.2717 - accuracy: 0.9187 - val_loss: 0.2956 - val_accuracy: 0.9014\n",
      "Epoch 15/15\n",
      "199/199 [==============================] - 11s 53ms/step - loss: 0.2638 - accuracy: 0.9174 - val_loss: 0.2991 - val_accuracy: 0.9026\n"
     ]
    }
   ],
   "source": [
    "optimizer = keras.optimizers.Nadam(learning_rate=0.001)\n",
    "\n",
    "model.compile(loss=\"sparse_categorical_crossentropy\", optimizer=optimizer, metrics=['accuracy'])\n",
    "\n",
    "history = model.fit(train_x, train_y, epochs=15,\n",
    "                   validation_data = (test_x, test_y), callbacks=earlystop)"
   ]
  },
  {
   "cell_type": "code",
   "execution_count": 97,
   "metadata": {},
   "outputs": [
    {
     "data": {
      "text/plain": [
       "[0.29914870858192444, 0.9026381969451904]"
      ]
     },
     "execution_count": 97,
     "metadata": {},
     "output_type": "execute_result"
    }
   ],
   "source": [
    "scores = model.evaluate(test_x, test_y, verbose=0)\n",
    "\n",
    "scores"
   ]
  },
  {
   "cell_type": "code",
   "execution_count": 98,
   "metadata": {
    "scrolled": true
   },
   "outputs": [
    {
     "name": "stdout",
     "output_type": "stream",
     "text": [
      "loss: 0.299\n",
      "accuracy: 90.26%\n"
     ]
    }
   ],
   "source": [
    "print(f'{model.metrics_names[0]}: {round(scores[0],3)}')\n",
    "print(f'{model.metrics_names[1]}: {round(scores[1]*100,2)}%')"
   ]
  },
  {
   "cell_type": "markdown",
   "metadata": {},
   "source": [
    "## Results"
   ]
  },
  {
   "cell_type": "markdown",
   "metadata": {},
   "source": [
    "From evaluating the test scores, I received values of:\n",
    "accuracy: 93.72% for the cross sectional deep model\n",
    "accuracy: 58.23% for the shallow LSTM model\n",
    "accuracy: 58.17% for the deep LSTM\n",
    "accuracy: 90.26% for the deep GRU model"
   ]
  },
  {
   "cell_type": "markdown",
   "metadata": {},
   "source": [
    "The regular deep model performs the best. Both RNNs and regular dense networks, for short sequences, can handle sequential data and the dense layers are still suited for sequences that I am using in this set. The way the neural network handles the weights and training may be a factor.\n",
    "The LSTM would seem to be suited for the task so the use of the forget gate is likely causing it to perform worse along with the logistic function although GRU is based on LSTM. LSTM and GRUs cannot typically longer handle sequences. \n",
    "\n",
    "It performs much better than the baseline 58% accuracy since it is 93.72% accurate. "
   ]
  }
 ],
 "metadata": {
  "kernelspec": {
   "display_name": "Python 3 (ipykernel)",
   "language": "python",
   "name": "python3"
  },
  "language_info": {
   "codemirror_mode": {
    "name": "ipython",
    "version": 3
   },
   "file_extension": ".py",
   "mimetype": "text/x-python",
   "name": "python",
   "nbconvert_exporter": "python",
   "pygments_lexer": "ipython3",
   "version": "3.9.12"
  },
  "toc": {
   "base_numbering": 1,
   "nav_menu": {},
   "number_sections": false,
   "sideBar": true,
   "skip_h1_title": true,
   "title_cell": "Table of Contents",
   "title_sidebar": "Contents",
   "toc_cell": false,
   "toc_position": {},
   "toc_section_display": true,
   "toc_window_display": false
  }
 },
 "nbformat": 4,
 "nbformat_minor": 2
}
