{
 "cells": [
  {
   "cell_type": "code",
   "execution_count": 25,
   "id": "d6c9f061",
   "metadata": {},
   "outputs": [],
   "source": [
    "# -*- coding: utf-8 -*-\n",
    "\"\"\"\n",
    "Created on Mon Mar 28 00:07:49 2022\n",
    "\n",
    "@author: mdsou\n",
    "\"\"\"\n",
    "import plotly.figure_factory as ff\n",
    "import warnings\n",
    "import pandas as pd\n",
    "import seaborn as sns\n",
    "import matplotlib.pyplot as plt\n",
    "from sklearn.linear_model import LinearRegression\n",
    "from sklearn.model_selection import train_test_split\n",
    "\n",
    "# for basic mathematics operation\n",
    "import numpy as np\n",
    "from pandas import plotting\n",
    "\n",
    "# for interactive visualizations\n",
    "import plotly.offline as py\n",
    "\n",
    "warnings.filterwarnings('ignore')\n",
    "\n",
    "#Load and read data\n",
    "df=pd.read_csv('C:\\\\Users\\\\mdsou\\\\Downloads\\\\HousePrices.csv')\n",
    "\n",
    "pd.set_option('display.max_columns', None)\n",
    "#Describe basic data attributes"
   ]
  },
  {
   "cell_type": "code",
   "execution_count": 21,
   "id": "f619f315",
   "metadata": {},
   "outputs": [
    {
     "data": {
      "text/html": [
       "<div>\n",
       "<style scoped>\n",
       "    .dataframe tbody tr th:only-of-type {\n",
       "        vertical-align: middle;\n",
       "    }\n",
       "\n",
       "    .dataframe tbody tr th {\n",
       "        vertical-align: top;\n",
       "    }\n",
       "\n",
       "    .dataframe thead th {\n",
       "        text-align: right;\n",
       "    }\n",
       "</style>\n",
       "<table border=\"1\" class=\"dataframe\">\n",
       "  <thead>\n",
       "    <tr style=\"text-align: right;\">\n",
       "      <th></th>\n",
       "      <th>Price</th>\n",
       "      <th>SqFt</th>\n",
       "      <th>Bedrooms</th>\n",
       "      <th>Bathrooms</th>\n",
       "      <th>Offers</th>\n",
       "      <th>Brick</th>\n",
       "      <th>Neighborhood</th>\n",
       "    </tr>\n",
       "  </thead>\n",
       "  <tbody>\n",
       "    <tr>\n",
       "      <th>0</th>\n",
       "      <td>114300</td>\n",
       "      <td>1790</td>\n",
       "      <td>2</td>\n",
       "      <td>2</td>\n",
       "      <td>2</td>\n",
       "      <td>No</td>\n",
       "      <td>East</td>\n",
       "    </tr>\n",
       "    <tr>\n",
       "      <th>1</th>\n",
       "      <td>114200</td>\n",
       "      <td>2030</td>\n",
       "      <td>4</td>\n",
       "      <td>2</td>\n",
       "      <td>3</td>\n",
       "      <td>No</td>\n",
       "      <td>East</td>\n",
       "    </tr>\n",
       "    <tr>\n",
       "      <th>2</th>\n",
       "      <td>114800</td>\n",
       "      <td>1740</td>\n",
       "      <td>3</td>\n",
       "      <td>2</td>\n",
       "      <td>1</td>\n",
       "      <td>No</td>\n",
       "      <td>East</td>\n",
       "    </tr>\n",
       "    <tr>\n",
       "      <th>3</th>\n",
       "      <td>94700</td>\n",
       "      <td>1980</td>\n",
       "      <td>3</td>\n",
       "      <td>2</td>\n",
       "      <td>3</td>\n",
       "      <td>No</td>\n",
       "      <td>East</td>\n",
       "    </tr>\n",
       "    <tr>\n",
       "      <th>4</th>\n",
       "      <td>119800</td>\n",
       "      <td>2130</td>\n",
       "      <td>3</td>\n",
       "      <td>3</td>\n",
       "      <td>3</td>\n",
       "      <td>No</td>\n",
       "      <td>East</td>\n",
       "    </tr>\n",
       "  </tbody>\n",
       "</table>\n",
       "</div>"
      ],
      "text/plain": [
       "    Price  SqFt  Bedrooms  Bathrooms  Offers Brick Neighborhood\n",
       "0  114300  1790         2          2       2    No         East\n",
       "1  114200  2030         4          2       3    No         East\n",
       "2  114800  1740         3          2       1    No         East\n",
       "3   94700  1980         3          2       3    No         East\n",
       "4  119800  2130         3          3       3    No         East"
      ]
     },
     "execution_count": 21,
     "metadata": {},
     "output_type": "execute_result"
    }
   ],
   "source": [
    "df.head()"
   ]
  },
  {
   "cell_type": "code",
   "execution_count": 22,
   "id": "18a7a182",
   "metadata": {},
   "outputs": [
    {
     "data": {
      "text/html": [
       "<div>\n",
       "<style scoped>\n",
       "    .dataframe tbody tr th:only-of-type {\n",
       "        vertical-align: middle;\n",
       "    }\n",
       "\n",
       "    .dataframe tbody tr th {\n",
       "        vertical-align: top;\n",
       "    }\n",
       "\n",
       "    .dataframe thead th {\n",
       "        text-align: right;\n",
       "    }\n",
       "</style>\n",
       "<table border=\"1\" class=\"dataframe\">\n",
       "  <thead>\n",
       "    <tr style=\"text-align: right;\">\n",
       "      <th></th>\n",
       "      <th>Price</th>\n",
       "      <th>SqFt</th>\n",
       "      <th>Bedrooms</th>\n",
       "      <th>Bathrooms</th>\n",
       "      <th>Offers</th>\n",
       "    </tr>\n",
       "  </thead>\n",
       "  <tbody>\n",
       "    <tr>\n",
       "      <th>count</th>\n",
       "      <td>128.000000</td>\n",
       "      <td>128.000000</td>\n",
       "      <td>128.000000</td>\n",
       "      <td>128.000000</td>\n",
       "      <td>128.000000</td>\n",
       "    </tr>\n",
       "    <tr>\n",
       "      <th>mean</th>\n",
       "      <td>130427.343750</td>\n",
       "      <td>2000.937500</td>\n",
       "      <td>3.023438</td>\n",
       "      <td>2.445312</td>\n",
       "      <td>2.578125</td>\n",
       "    </tr>\n",
       "    <tr>\n",
       "      <th>std</th>\n",
       "      <td>26868.770371</td>\n",
       "      <td>211.572431</td>\n",
       "      <td>0.725951</td>\n",
       "      <td>0.514492</td>\n",
       "      <td>1.069324</td>\n",
       "    </tr>\n",
       "    <tr>\n",
       "      <th>min</th>\n",
       "      <td>69100.000000</td>\n",
       "      <td>1450.000000</td>\n",
       "      <td>2.000000</td>\n",
       "      <td>2.000000</td>\n",
       "      <td>1.000000</td>\n",
       "    </tr>\n",
       "    <tr>\n",
       "      <th>25%</th>\n",
       "      <td>111325.000000</td>\n",
       "      <td>1880.000000</td>\n",
       "      <td>3.000000</td>\n",
       "      <td>2.000000</td>\n",
       "      <td>2.000000</td>\n",
       "    </tr>\n",
       "    <tr>\n",
       "      <th>50%</th>\n",
       "      <td>125950.000000</td>\n",
       "      <td>2000.000000</td>\n",
       "      <td>3.000000</td>\n",
       "      <td>2.000000</td>\n",
       "      <td>3.000000</td>\n",
       "    </tr>\n",
       "    <tr>\n",
       "      <th>75%</th>\n",
       "      <td>148250.000000</td>\n",
       "      <td>2140.000000</td>\n",
       "      <td>3.000000</td>\n",
       "      <td>3.000000</td>\n",
       "      <td>3.000000</td>\n",
       "    </tr>\n",
       "    <tr>\n",
       "      <th>max</th>\n",
       "      <td>211200.000000</td>\n",
       "      <td>2590.000000</td>\n",
       "      <td>5.000000</td>\n",
       "      <td>4.000000</td>\n",
       "      <td>6.000000</td>\n",
       "    </tr>\n",
       "  </tbody>\n",
       "</table>\n",
       "</div>"
      ],
      "text/plain": [
       "               Price         SqFt    Bedrooms   Bathrooms      Offers\n",
       "count     128.000000   128.000000  128.000000  128.000000  128.000000\n",
       "mean   130427.343750  2000.937500    3.023438    2.445312    2.578125\n",
       "std     26868.770371   211.572431    0.725951    0.514492    1.069324\n",
       "min     69100.000000  1450.000000    2.000000    2.000000    1.000000\n",
       "25%    111325.000000  1880.000000    3.000000    2.000000    2.000000\n",
       "50%    125950.000000  2000.000000    3.000000    2.000000    3.000000\n",
       "75%    148250.000000  2140.000000    3.000000    3.000000    3.000000\n",
       "max    211200.000000  2590.000000    5.000000    4.000000    6.000000"
      ]
     },
     "execution_count": 22,
     "metadata": {},
     "output_type": "execute_result"
    }
   ],
   "source": [
    "df.describe()"
   ]
  },
  {
   "cell_type": "code",
   "execution_count": 23,
   "id": "395ceca5",
   "metadata": {},
   "outputs": [
    {
     "data": {
      "text/plain": [
       "Price           False\n",
       "SqFt            False\n",
       "Bedrooms        False\n",
       "Bathrooms       False\n",
       "Offers          False\n",
       "Brick           False\n",
       "Neighborhood    False\n",
       "dtype: bool"
      ]
     },
     "execution_count": 23,
     "metadata": {},
     "output_type": "execute_result"
    }
   ],
   "source": [
    "df.isnull().any()"
   ]
  },
  {
   "cell_type": "code",
   "execution_count": 24,
   "id": "01a56ea1",
   "metadata": {},
   "outputs": [
    {
     "data": {
      "text/html": [
       "<div>\n",
       "<style scoped>\n",
       "    .dataframe tbody tr th:only-of-type {\n",
       "        vertical-align: middle;\n",
       "    }\n",
       "\n",
       "    .dataframe tbody tr th {\n",
       "        vertical-align: top;\n",
       "    }\n",
       "\n",
       "    .dataframe thead th {\n",
       "        text-align: right;\n",
       "    }\n",
       "</style>\n",
       "<table border=\"1\" class=\"dataframe\">\n",
       "  <thead>\n",
       "    <tr style=\"text-align: right;\">\n",
       "      <th></th>\n",
       "      <th>Price</th>\n",
       "      <th>SqFt</th>\n",
       "      <th>Bedrooms</th>\n",
       "      <th>Bathrooms</th>\n",
       "      <th>Offers</th>\n",
       "    </tr>\n",
       "  </thead>\n",
       "  <tbody>\n",
       "    <tr>\n",
       "      <th>Price</th>\n",
       "      <td>1.000000</td>\n",
       "      <td>0.552982</td>\n",
       "      <td>0.525926</td>\n",
       "      <td>0.523258</td>\n",
       "      <td>-0.313636</td>\n",
       "    </tr>\n",
       "    <tr>\n",
       "      <th>SqFt</th>\n",
       "      <td>0.552982</td>\n",
       "      <td>1.000000</td>\n",
       "      <td>0.483807</td>\n",
       "      <td>0.522745</td>\n",
       "      <td>0.336923</td>\n",
       "    </tr>\n",
       "    <tr>\n",
       "      <th>Bedrooms</th>\n",
       "      <td>0.525926</td>\n",
       "      <td>0.483807</td>\n",
       "      <td>1.000000</td>\n",
       "      <td>0.414556</td>\n",
       "      <td>0.114271</td>\n",
       "    </tr>\n",
       "    <tr>\n",
       "      <th>Bathrooms</th>\n",
       "      <td>0.523258</td>\n",
       "      <td>0.522745</td>\n",
       "      <td>0.414556</td>\n",
       "      <td>1.000000</td>\n",
       "      <td>0.143793</td>\n",
       "    </tr>\n",
       "    <tr>\n",
       "      <th>Offers</th>\n",
       "      <td>-0.313636</td>\n",
       "      <td>0.336923</td>\n",
       "      <td>0.114271</td>\n",
       "      <td>0.143793</td>\n",
       "      <td>1.000000</td>\n",
       "    </tr>\n",
       "  </tbody>\n",
       "</table>\n",
       "</div>"
      ],
      "text/plain": [
       "              Price      SqFt  Bedrooms  Bathrooms    Offers\n",
       "Price      1.000000  0.552982  0.525926   0.523258 -0.313636\n",
       "SqFt       0.552982  1.000000  0.483807   0.522745  0.336923\n",
       "Bedrooms   0.525926  0.483807  1.000000   0.414556  0.114271\n",
       "Bathrooms  0.523258  0.522745  0.414556   1.000000  0.143793\n",
       "Offers    -0.313636  0.336923  0.114271   0.143793  1.000000"
      ]
     },
     "execution_count": 24,
     "metadata": {},
     "output_type": "execute_result"
    }
   ],
   "source": [
    "df.corr()"
   ]
  },
  {
   "cell_type": "code",
   "execution_count": 6,
   "id": "4313e3de",
   "metadata": {},
   "outputs": [
    {
     "data": {
      "text/plain": [
       "<AxesSubplot:>"
      ]
     },
     "execution_count": 6,
     "metadata": {},
     "output_type": "execute_result"
    },
    {
     "data": {
      "image/png": "[encoded data removed]",
      "text/plain": [
       "<Figure size 432x288 with 2 Axes>"
      ]
     },
     "metadata": {
      "needs_background": "light"
     },
     "output_type": "display_data"
    }
   ],
   "source": [
    "sns.heatmap(df.corr(),annot=True,lw=1)"
   ]
  },
  {
   "cell_type": "code",
   "execution_count": 8,
   "id": "73861d70",
   "metadata": {},
   "outputs": [
    {
     "data": {
      "text/plain": [
       "2    72\n",
       "3    55\n",
       "4     1\n",
       "Name: Bathrooms, dtype: int64"
      ]
     },
     "execution_count": 8,
     "metadata": {},
     "output_type": "execute_result"
    }
   ],
   "source": [
    "df['Bathrooms'].value_counts()"
   ]
  },
  {
   "cell_type": "code",
   "execution_count": 9,
   "id": "9e7f8666",
   "metadata": {},
   "outputs": [
    {
     "data": {
      "text/plain": [
       "3    67\n",
       "2    30\n",
       "4    29\n",
       "5     2\n",
       "Name: Bedrooms, dtype: int64"
      ]
     },
     "execution_count": 9,
     "metadata": {},
     "output_type": "execute_result"
    }
   ],
   "source": [
    "df['Bedrooms'].value_counts()"
   ]
  },
  {
   "cell_type": "code",
   "execution_count": 10,
   "id": "141a4154",
   "metadata": {},
   "outputs": [
    {
     "data": {
      "text/plain": [
       "3    46\n",
       "2    36\n",
       "1    23\n",
       "4    19\n",
       "5     3\n",
       "6     1\n",
       "Name: Offers, dtype: int64"
      ]
     },
     "execution_count": 10,
     "metadata": {},
     "output_type": "execute_result"
    }
   ],
   "source": [
    "df['Offers'].value_counts()"
   ]
  },
  {
   "cell_type": "code",
   "execution_count": 12,
   "id": "d6d65638",
   "metadata": {},
   "outputs": [
    {
     "data": {
      "text/plain": [
       "<seaborn.axisgrid.PairGrid at 0x2af8ad32d60>"
      ]
     },
     "execution_count": 12,
     "metadata": {},
     "output_type": "execute_result"
    },
    {
     "data": {
      "image/png": "[encoded data removed]",
      "text/plain": [
       "<Figure size 900x900 with 30 Axes>"
      ]
     },
     "metadata": {
      "needs_background": "light"
     },
     "output_type": "display_data"
    }
   ],
   "source": [
    "#Vizualize some of the variables\n",
    "sns.pairplot(df)\n",
    "\n",
    "#Show distributions"
   ]
  },
  {
   "cell_type": "code",
   "execution_count": 13,
   "id": "e0a55dd9",
   "metadata": {},
   "outputs": [
    {
     "data": {
      "text/plain": [
       "<AxesSubplot:xlabel='Price', ylabel='Count'>"
      ]
     },
     "execution_count": 13,
     "metadata": {},
     "output_type": "execute_result"
    },
    {
     "data": {
      "image/png": "[encoded data removed]",
      "text/plain": [
       "<Figure size 432x288 with 1 Axes>"
      ]
     },
     "metadata": {
      "needs_background": "light"
     },
     "output_type": "display_data"
    }
   ],
   "source": [
    "sns.histplot(df['Price'])"
   ]
  },
  {
   "cell_type": "code",
   "execution_count": 14,
   "id": "ec7cd616",
   "metadata": {},
   "outputs": [
    {
     "data": {
      "text/plain": [
       "<AxesSubplot:xlabel='SqFt', ylabel='Count'>"
      ]
     },
     "execution_count": 14,
     "metadata": {},
     "output_type": "execute_result"
    },
    {
     "data": {
      "image/png": "[encoded data removed]",
      "text/plain": [
       "<Figure size 432x288 with 1 Axes>"
      ]
     },
     "metadata": {
      "needs_background": "light"
     },
     "output_type": "display_data"
    }
   ],
   "source": [
    "sns.histplot(df['SqFt'])"
   ]
  },
  {
   "cell_type": "code",
   "execution_count": 15,
   "id": "269ea691",
   "metadata": {},
   "outputs": [
    {
     "data": {
      "text/plain": [
       "<AxesSubplot:xlabel='Bedrooms', ylabel='Count'>"
      ]
     },
     "execution_count": 15,
     "metadata": {},
     "output_type": "execute_result"
    },
    {
     "data": {
      "image/png": "[encoded data removed]",
      "text/plain": [
       "<Figure size 432x288 with 1 Axes>"
      ]
     },
     "metadata": {
      "needs_background": "light"
     },
     "output_type": "display_data"
    }
   ],
   "source": [
    "sns.histplot(df['Bedrooms'], bins=(1,2,3,4,5,6))"
   ]
  },
  {
   "cell_type": "code",
   "execution_count": 16,
   "id": "0640ec61",
   "metadata": {},
   "outputs": [
    {
     "data": {
      "text/plain": [
       "<AxesSubplot:xlabel='Bathrooms', ylabel='Count'>"
      ]
     },
     "execution_count": 16,
     "metadata": {},
     "output_type": "execute_result"
    },
    {
     "data": {
      "image/png": "[encoded data removed]",
      "text/plain": [
       "<Figure size 432x288 with 1 Axes>"
      ]
     },
     "metadata": {
      "needs_background": "light"
     },
     "output_type": "display_data"
    }
   ],
   "source": [
    "sns.histplot(df['Bathrooms'], discrete=True)"
   ]
  },
  {
   "cell_type": "code",
   "execution_count": 17,
   "id": "f0aa7f1d",
   "metadata": {},
   "outputs": [
    {
     "data": {
      "text/plain": [
       "<AxesSubplot:xlabel='Offers', ylabel='Count'>"
      ]
     },
     "execution_count": 17,
     "metadata": {},
     "output_type": "execute_result"
    },
    {
     "data": {
      "image/png": "[encoded data removed]",
      "text/plain": [
       "<Figure size 432x288 with 1 Axes>"
      ]
     },
     "metadata": {
      "needs_background": "light"
     },
     "output_type": "display_data"
    }
   ],
   "source": [
    "sns.histplot(df['Offers'])"
   ]
  },
  {
   "cell_type": "code",
   "execution_count": 18,
   "id": "5d03207f",
   "metadata": {},
   "outputs": [
    {
     "data": {
      "text/plain": [
       "Price   SqFt  Bedrooms  Bathrooms  Offers  Brick  Neighborhood\n",
       "69100   1600  2         2          3       No     North           1\n",
       "81300   1650  3         2          3       No     North           1\n",
       "147700  2410  3         3          2       No     East            1\n",
       "147100  2190  3         3          4       Yes    East            1\n",
       "147000  2420  4         3          4       No     West            1\n",
       "                                                                 ..\n",
       "114200  2030  4         2          3       No     East            1\n",
       "113800  2000  3         2          4       No     North           1\n",
       "113500  2070  2         2          2       No     North           1\n",
       "112300  1930  2         2          2       Yes    North           1\n",
       "211200  2440  4         3          3       Yes    West            1\n",
       "Length: 128, dtype: int64"
      ]
     },
     "execution_count": 18,
     "metadata": {},
     "output_type": "execute_result"
    }
   ],
   "source": [
    "df.value_counts()"
   ]
  },
  {
   "cell_type": "code",
   "execution_count": 28,
   "id": "cd10e692",
   "metadata": {},
   "outputs": [],
   "source": [
    "from sklearn.compose import ColumnTransformer\n",
    "from sklearn.pipeline import Pipeline\n",
    "from sklearn.impute import SimpleImputer\n",
    "from sklearn.preprocessing import StandardScaler\n",
    "from sklearn.preprocessing import OneHotEncoder\n",
    "\n",
    "\n",
    "train_set, test_set = train_test_split(df, test_size=0.3)"
   ]
  },
  {
   "cell_type": "code",
   "execution_count": 29,
   "id": "8f9e97c6",
   "metadata": {},
   "outputs": [],
   "source": [
    "train_y = train_set[['Price']]\n",
    "test_y = test_set[['Price']]"
   ]
  },
  {
   "cell_type": "code",
   "execution_count": 30,
   "id": "2d57f4dd",
   "metadata": {},
   "outputs": [],
   "source": [
    "#Separate target variable\n",
    "train_y\n",
    "train_x = train_set.drop(['Price'], axis=1)\n",
    "test_y = test_set.drop(['Price'], axis=1)"
   ]
  },
  {
   "cell_type": "code",
   "execution_count": 31,
   "id": "b0210320",
   "metadata": {},
   "outputs": [
    {
     "data": {
      "text/html": [
       "<div>\n",
       "<style scoped>\n",
       "    .dataframe tbody tr th:only-of-type {\n",
       "        vertical-align: middle;\n",
       "    }\n",
       "\n",
       "    .dataframe tbody tr th {\n",
       "        vertical-align: top;\n",
       "    }\n",
       "\n",
       "    .dataframe thead th {\n",
       "        text-align: right;\n",
       "    }\n",
       "</style>\n",
       "<table border=\"1\" class=\"dataframe\">\n",
       "  <thead>\n",
       "    <tr style=\"text-align: right;\">\n",
       "      <th></th>\n",
       "      <th>SqFt</th>\n",
       "      <th>Bedrooms</th>\n",
       "      <th>Bathrooms</th>\n",
       "      <th>Offers</th>\n",
       "      <th>Brick</th>\n",
       "      <th>Neighborhood</th>\n",
       "    </tr>\n",
       "  </thead>\n",
       "  <tbody>\n",
       "    <tr>\n",
       "      <th>108</th>\n",
       "      <td>1990</td>\n",
       "      <td>3</td>\n",
       "      <td>3</td>\n",
       "      <td>3</td>\n",
       "      <td>Yes</td>\n",
       "      <td>East</td>\n",
       "    </tr>\n",
       "    <tr>\n",
       "      <th>74</th>\n",
       "      <td>2140</td>\n",
       "      <td>3</td>\n",
       "      <td>3</td>\n",
       "      <td>3</td>\n",
       "      <td>No</td>\n",
       "      <td>West</td>\n",
       "    </tr>\n",
       "    <tr>\n",
       "      <th>41</th>\n",
       "      <td>1840</td>\n",
       "      <td>4</td>\n",
       "      <td>3</td>\n",
       "      <td>2</td>\n",
       "      <td>No</td>\n",
       "      <td>West</td>\n",
       "    </tr>\n",
       "    <tr>\n",
       "      <th>1</th>\n",
       "      <td>2030</td>\n",
       "      <td>4</td>\n",
       "      <td>2</td>\n",
       "      <td>3</td>\n",
       "      <td>No</td>\n",
       "      <td>East</td>\n",
       "    </tr>\n",
       "    <tr>\n",
       "      <th>32</th>\n",
       "      <td>2250</td>\n",
       "      <td>3</td>\n",
       "      <td>3</td>\n",
       "      <td>3</td>\n",
       "      <td>Yes</td>\n",
       "      <td>East</td>\n",
       "    </tr>\n",
       "    <tr>\n",
       "      <th>...</th>\n",
       "      <td>...</td>\n",
       "      <td>...</td>\n",
       "      <td>...</td>\n",
       "      <td>...</td>\n",
       "      <td>...</td>\n",
       "      <td>...</td>\n",
       "    </tr>\n",
       "    <tr>\n",
       "      <th>75</th>\n",
       "      <td>1900</td>\n",
       "      <td>2</td>\n",
       "      <td>2</td>\n",
       "      <td>2</td>\n",
       "      <td>No</td>\n",
       "      <td>North</td>\n",
       "    </tr>\n",
       "    <tr>\n",
       "      <th>22</th>\n",
       "      <td>1690</td>\n",
       "      <td>3</td>\n",
       "      <td>2</td>\n",
       "      <td>3</td>\n",
       "      <td>No</td>\n",
       "      <td>North</td>\n",
       "    </tr>\n",
       "    <tr>\n",
       "      <th>70</th>\n",
       "      <td>1950</td>\n",
       "      <td>3</td>\n",
       "      <td>3</td>\n",
       "      <td>3</td>\n",
       "      <td>Yes</td>\n",
       "      <td>West</td>\n",
       "    </tr>\n",
       "    <tr>\n",
       "      <th>33</th>\n",
       "      <td>2280</td>\n",
       "      <td>5</td>\n",
       "      <td>3</td>\n",
       "      <td>4</td>\n",
       "      <td>Yes</td>\n",
       "      <td>East</td>\n",
       "    </tr>\n",
       "    <tr>\n",
       "      <th>92</th>\n",
       "      <td>2110</td>\n",
       "      <td>3</td>\n",
       "      <td>2</td>\n",
       "      <td>2</td>\n",
       "      <td>No</td>\n",
       "      <td>West</td>\n",
       "    </tr>\n",
       "  </tbody>\n",
       "</table>\n",
       "<p>89 rows × 6 columns</p>\n",
       "</div>"
      ],
      "text/plain": [
       "     SqFt  Bedrooms  Bathrooms  Offers Brick Neighborhood\n",
       "108  1990         3          3       3   Yes         East\n",
       "74   2140         3          3       3    No         West\n",
       "41   1840         4          3       2    No         West\n",
       "1    2030         4          2       3    No         East\n",
       "32   2250         3          3       3   Yes         East\n",
       "..    ...       ...        ...     ...   ...          ...\n",
       "75   1900         2          2       2    No        North\n",
       "22   1690         3          2       3    No        North\n",
       "70   1950         3          3       3   Yes         West\n",
       "33   2280         5          3       4   Yes         East\n",
       "92   2110         3          2       2    No         West\n",
       "\n",
       "[89 rows x 6 columns]"
      ]
     },
     "execution_count": 31,
     "metadata": {},
     "output_type": "execute_result"
    }
   ],
   "source": [
    "train_x = train_set.drop(['Price'], axis=1)\n",
    "test_y = test_set.drop(['Price'], axis=1)\n",
    "train_x"
   ]
  },
  {
   "cell_type": "code",
   "execution_count": 33,
   "id": "5a84543b",
   "metadata": {},
   "outputs": [],
   "source": [
    "train_x = train_set.drop(['Price'], axis=1)\n",
    "test_y = test_set.drop(['Price'], axis=1)\n"
   ]
  },
  {
   "cell_type": "code",
   "execution_count": 35,
   "id": "873bfcb5",
   "metadata": {},
   "outputs": [
    {
     "data": {
      "text/plain": [
       "SqFt             int64\n",
       "Bedrooms         int64\n",
       "Bathrooms        int64\n",
       "Offers           int64\n",
       "Brick           object\n",
       "Neighborhood    object\n",
       "dtype: object"
      ]
     },
     "execution_count": 35,
     "metadata": {},
     "output_type": "execute_result"
    }
   ],
   "source": [
    "#Identify the numerical columns\n",
    "train_x.dtypes\n",
    "#numeric_columns = train_inputs.select_dtypes(include=[np.number]).columns.to_list()"
   ]
  },
  {
   "cell_type": "code",
   "execution_count": 36,
   "id": "98ab10f2",
   "metadata": {},
   "outputs": [
    {
     "data": {
      "text/html": [
       "<div>\n",
       "<style scoped>\n",
       "    .dataframe tbody tr th:only-of-type {\n",
       "        vertical-align: middle;\n",
       "    }\n",
       "\n",
       "    .dataframe tbody tr th {\n",
       "        vertical-align: top;\n",
       "    }\n",
       "\n",
       "    .dataframe thead th {\n",
       "        text-align: right;\n",
       "    }\n",
       "</style>\n",
       "<table border=\"1\" class=\"dataframe\">\n",
       "  <thead>\n",
       "    <tr style=\"text-align: right;\">\n",
       "      <th></th>\n",
       "      <th>Price</th>\n",
       "      <th>SqFt</th>\n",
       "      <th>Bedrooms</th>\n",
       "      <th>Bathrooms</th>\n",
       "      <th>Offers</th>\n",
       "      <th>Brick_No</th>\n",
       "      <th>Brick_Yes</th>\n",
       "      <th>Neighborhood_East</th>\n",
       "      <th>Neighborhood_North</th>\n",
       "      <th>Neighborhood_West</th>\n",
       "    </tr>\n",
       "  </thead>\n",
       "  <tbody>\n",
       "    <tr>\n",
       "      <th>0</th>\n",
       "      <td>114300</td>\n",
       "      <td>1790</td>\n",
       "      <td>2</td>\n",
       "      <td>2</td>\n",
       "      <td>2</td>\n",
       "      <td>1</td>\n",
       "      <td>0</td>\n",
       "      <td>1</td>\n",
       "      <td>0</td>\n",
       "      <td>0</td>\n",
       "    </tr>\n",
       "    <tr>\n",
       "      <th>1</th>\n",
       "      <td>114200</td>\n",
       "      <td>2030</td>\n",
       "      <td>4</td>\n",
       "      <td>2</td>\n",
       "      <td>3</td>\n",
       "      <td>1</td>\n",
       "      <td>0</td>\n",
       "      <td>1</td>\n",
       "      <td>0</td>\n",
       "      <td>0</td>\n",
       "    </tr>\n",
       "    <tr>\n",
       "      <th>2</th>\n",
       "      <td>114800</td>\n",
       "      <td>1740</td>\n",
       "      <td>3</td>\n",
       "      <td>2</td>\n",
       "      <td>1</td>\n",
       "      <td>1</td>\n",
       "      <td>0</td>\n",
       "      <td>1</td>\n",
       "      <td>0</td>\n",
       "      <td>0</td>\n",
       "    </tr>\n",
       "    <tr>\n",
       "      <th>3</th>\n",
       "      <td>94700</td>\n",
       "      <td>1980</td>\n",
       "      <td>3</td>\n",
       "      <td>2</td>\n",
       "      <td>3</td>\n",
       "      <td>1</td>\n",
       "      <td>0</td>\n",
       "      <td>1</td>\n",
       "      <td>0</td>\n",
       "      <td>0</td>\n",
       "    </tr>\n",
       "    <tr>\n",
       "      <th>4</th>\n",
       "      <td>119800</td>\n",
       "      <td>2130</td>\n",
       "      <td>3</td>\n",
       "      <td>3</td>\n",
       "      <td>3</td>\n",
       "      <td>1</td>\n",
       "      <td>0</td>\n",
       "      <td>1</td>\n",
       "      <td>0</td>\n",
       "      <td>0</td>\n",
       "    </tr>\n",
       "    <tr>\n",
       "      <th>...</th>\n",
       "      <td>...</td>\n",
       "      <td>...</td>\n",
       "      <td>...</td>\n",
       "      <td>...</td>\n",
       "      <td>...</td>\n",
       "      <td>...</td>\n",
       "      <td>...</td>\n",
       "      <td>...</td>\n",
       "      <td>...</td>\n",
       "      <td>...</td>\n",
       "    </tr>\n",
       "    <tr>\n",
       "      <th>123</th>\n",
       "      <td>119700</td>\n",
       "      <td>1900</td>\n",
       "      <td>3</td>\n",
       "      <td>3</td>\n",
       "      <td>3</td>\n",
       "      <td>0</td>\n",
       "      <td>1</td>\n",
       "      <td>1</td>\n",
       "      <td>0</td>\n",
       "      <td>0</td>\n",
       "    </tr>\n",
       "    <tr>\n",
       "      <th>124</th>\n",
       "      <td>147900</td>\n",
       "      <td>2160</td>\n",
       "      <td>4</td>\n",
       "      <td>3</td>\n",
       "      <td>3</td>\n",
       "      <td>0</td>\n",
       "      <td>1</td>\n",
       "      <td>1</td>\n",
       "      <td>0</td>\n",
       "      <td>0</td>\n",
       "    </tr>\n",
       "    <tr>\n",
       "      <th>125</th>\n",
       "      <td>113500</td>\n",
       "      <td>2070</td>\n",
       "      <td>2</td>\n",
       "      <td>2</td>\n",
       "      <td>2</td>\n",
       "      <td>1</td>\n",
       "      <td>0</td>\n",
       "      <td>0</td>\n",
       "      <td>1</td>\n",
       "      <td>0</td>\n",
       "    </tr>\n",
       "    <tr>\n",
       "      <th>126</th>\n",
       "      <td>149900</td>\n",
       "      <td>2020</td>\n",
       "      <td>3</td>\n",
       "      <td>3</td>\n",
       "      <td>1</td>\n",
       "      <td>1</td>\n",
       "      <td>0</td>\n",
       "      <td>0</td>\n",
       "      <td>0</td>\n",
       "      <td>1</td>\n",
       "    </tr>\n",
       "    <tr>\n",
       "      <th>127</th>\n",
       "      <td>124600</td>\n",
       "      <td>2250</td>\n",
       "      <td>3</td>\n",
       "      <td>3</td>\n",
       "      <td>4</td>\n",
       "      <td>1</td>\n",
       "      <td>0</td>\n",
       "      <td>0</td>\n",
       "      <td>1</td>\n",
       "      <td>0</td>\n",
       "    </tr>\n",
       "  </tbody>\n",
       "</table>\n",
       "<p>128 rows × 10 columns</p>\n",
       "</div>"
      ],
      "text/plain": [
       "      Price  SqFt  Bedrooms  Bathrooms  Offers  Brick_No  Brick_Yes  \\\n",
       "0    114300  1790         2          2       2         1          0   \n",
       "1    114200  2030         4          2       3         1          0   \n",
       "2    114800  1740         3          2       1         1          0   \n",
       "3     94700  1980         3          2       3         1          0   \n",
       "4    119800  2130         3          3       3         1          0   \n",
       "..      ...   ...       ...        ...     ...       ...        ...   \n",
       "123  119700  1900         3          3       3         0          1   \n",
       "124  147900  2160         4          3       3         0          1   \n",
       "125  113500  2070         2          2       2         1          0   \n",
       "126  149900  2020         3          3       1         1          0   \n",
       "127  124600  2250         3          3       4         1          0   \n",
       "\n",
       "     Neighborhood_East  Neighborhood_North  Neighborhood_West  \n",
       "0                    1                   0                  0  \n",
       "1                    1                   0                  0  \n",
       "2                    1                   0                  0  \n",
       "3                    1                   0                  0  \n",
       "4                    1                   0                  0  \n",
       "..                 ...                 ...                ...  \n",
       "123                  1                   0                  0  \n",
       "124                  1                   0                  0  \n",
       "125                  0                   1                  0  \n",
       "126                  0                   0                  1  \n",
       "127                  0                   1                  0  \n",
       "\n",
       "[128 rows x 10 columns]"
      ]
     },
     "execution_count": 36,
     "metadata": {},
     "output_type": "execute_result"
    }
   ],
   "source": [
    "# Identify the categorical columns\n",
    "categorical_columns = train_x.select_dtypes('object').columns.to_list()\n",
    "#binary_columns = df['Brick']\n",
    "categorical_columns\n",
    "#binary_columns = ['Brick'].astype('boolean')\n",
    "df['Brick']\n",
    "df2 = pd.get_dummies(data = df,\n",
    "               columns = categorical_columns,\n",
    "              dtype='int8')\n",
    "df2"
   ]
  },
  {
   "cell_type": "code",
   "execution_count": 38,
   "id": "371d8ba6",
   "metadata": {},
   "outputs": [],
   "source": [
    "#Create new set based on modified categorical columns\n",
    "train_set, test_set = train_test_split(df2, test_size=0.3)\n",
    "\n",
    "train_y = train_set[['Price']]\n",
    "test_y = test_set[['Price']]\n",
    "#Separate target variable"
   ]
  },
  {
   "cell_type": "code",
   "execution_count": 39,
   "id": "dd349ef9",
   "metadata": {},
   "outputs": [],
   "source": [
    "train_x = train_set.drop(['Price'], axis=1)\n",
    "test_x = test_set.drop(['Price'], axis=1)"
   ]
  },
  {
   "cell_type": "code",
   "execution_count": 40,
   "id": "573a3505",
   "metadata": {},
   "outputs": [
    {
     "data": {
      "text/html": [
       "<div>\n",
       "<style scoped>\n",
       "    .dataframe tbody tr th:only-of-type {\n",
       "        vertical-align: middle;\n",
       "    }\n",
       "\n",
       "    .dataframe tbody tr th {\n",
       "        vertical-align: top;\n",
       "    }\n",
       "\n",
       "    .dataframe thead th {\n",
       "        text-align: right;\n",
       "    }\n",
       "</style>\n",
       "<table border=\"1\" class=\"dataframe\">\n",
       "  <thead>\n",
       "    <tr style=\"text-align: right;\">\n",
       "      <th></th>\n",
       "      <th>SqFt</th>\n",
       "      <th>Bedrooms</th>\n",
       "      <th>Bathrooms</th>\n",
       "      <th>Offers</th>\n",
       "      <th>Brick_No</th>\n",
       "      <th>Brick_Yes</th>\n",
       "      <th>Neighborhood_East</th>\n",
       "      <th>Neighborhood_North</th>\n",
       "      <th>Neighborhood_West</th>\n",
       "    </tr>\n",
       "  </thead>\n",
       "  <tbody>\n",
       "    <tr>\n",
       "      <th>48</th>\n",
       "      <td>1980</td>\n",
       "      <td>2</td>\n",
       "      <td>2</td>\n",
       "      <td>2</td>\n",
       "      <td>1</td>\n",
       "      <td>0</td>\n",
       "      <td>1</td>\n",
       "      <td>0</td>\n",
       "      <td>0</td>\n",
       "    </tr>\n",
       "    <tr>\n",
       "      <th>4</th>\n",
       "      <td>2130</td>\n",
       "      <td>3</td>\n",
       "      <td>3</td>\n",
       "      <td>3</td>\n",
       "      <td>1</td>\n",
       "      <td>0</td>\n",
       "      <td>1</td>\n",
       "      <td>0</td>\n",
       "      <td>0</td>\n",
       "    </tr>\n",
       "    <tr>\n",
       "      <th>81</th>\n",
       "      <td>2140</td>\n",
       "      <td>4</td>\n",
       "      <td>3</td>\n",
       "      <td>2</td>\n",
       "      <td>0</td>\n",
       "      <td>1</td>\n",
       "      <td>0</td>\n",
       "      <td>0</td>\n",
       "      <td>1</td>\n",
       "    </tr>\n",
       "    <tr>\n",
       "      <th>62</th>\n",
       "      <td>2220</td>\n",
       "      <td>4</td>\n",
       "      <td>3</td>\n",
       "      <td>2</td>\n",
       "      <td>1</td>\n",
       "      <td>0</td>\n",
       "      <td>0</td>\n",
       "      <td>0</td>\n",
       "      <td>1</td>\n",
       "    </tr>\n",
       "    <tr>\n",
       "      <th>23</th>\n",
       "      <td>1820</td>\n",
       "      <td>3</td>\n",
       "      <td>2</td>\n",
       "      <td>3</td>\n",
       "      <td>0</td>\n",
       "      <td>1</td>\n",
       "      <td>0</td>\n",
       "      <td>1</td>\n",
       "      <td>0</td>\n",
       "    </tr>\n",
       "    <tr>\n",
       "      <th>44</th>\n",
       "      <td>1940</td>\n",
       "      <td>3</td>\n",
       "      <td>3</td>\n",
       "      <td>2</td>\n",
       "      <td>0</td>\n",
       "      <td>1</td>\n",
       "      <td>0</td>\n",
       "      <td>0</td>\n",
       "      <td>1</td>\n",
       "    </tr>\n",
       "    <tr>\n",
       "      <th>94</th>\n",
       "      <td>2150</td>\n",
       "      <td>4</td>\n",
       "      <td>3</td>\n",
       "      <td>3</td>\n",
       "      <td>0</td>\n",
       "      <td>1</td>\n",
       "      <td>0</td>\n",
       "      <td>0</td>\n",
       "      <td>1</td>\n",
       "    </tr>\n",
       "    <tr>\n",
       "      <th>55</th>\n",
       "      <td>1720</td>\n",
       "      <td>2</td>\n",
       "      <td>2</td>\n",
       "      <td>2</td>\n",
       "      <td>0</td>\n",
       "      <td>1</td>\n",
       "      <td>1</td>\n",
       "      <td>0</td>\n",
       "      <td>0</td>\n",
       "    </tr>\n",
       "    <tr>\n",
       "      <th>2</th>\n",
       "      <td>1740</td>\n",
       "      <td>3</td>\n",
       "      <td>2</td>\n",
       "      <td>1</td>\n",
       "      <td>1</td>\n",
       "      <td>0</td>\n",
       "      <td>1</td>\n",
       "      <td>0</td>\n",
       "      <td>0</td>\n",
       "    </tr>\n",
       "    <tr>\n",
       "      <th>80</th>\n",
       "      <td>2190</td>\n",
       "      <td>3</td>\n",
       "      <td>3</td>\n",
       "      <td>4</td>\n",
       "      <td>0</td>\n",
       "      <td>1</td>\n",
       "      <td>1</td>\n",
       "      <td>0</td>\n",
       "      <td>0</td>\n",
       "    </tr>\n",
       "  </tbody>\n",
       "</table>\n",
       "</div>"
      ],
      "text/plain": [
       "    SqFt  Bedrooms  Bathrooms  Offers  Brick_No  Brick_Yes  Neighborhood_East  \\\n",
       "48  1980         2          2       2         1          0                  1   \n",
       "4   2130         3          3       3         1          0                  1   \n",
       "81  2140         4          3       2         0          1                  0   \n",
       "62  2220         4          3       2         1          0                  0   \n",
       "23  1820         3          2       3         0          1                  0   \n",
       "44  1940         3          3       2         0          1                  0   \n",
       "94  2150         4          3       3         0          1                  0   \n",
       "55  1720         2          2       2         0          1                  1   \n",
       "2   1740         3          2       1         1          0                  1   \n",
       "80  2190         3          3       4         0          1                  1   \n",
       "\n",
       "    Neighborhood_North  Neighborhood_West  \n",
       "48                   0                  0  \n",
       "4                    0                  0  \n",
       "81                   0                  1  \n",
       "62                   0                  1  \n",
       "23                   1                  0  \n",
       "44                   0                  1  \n",
       "94                   0                  1  \n",
       "55                   0                  0  \n",
       "2                    0                  0  \n",
       "80                   0                  0  "
      ]
     },
     "execution_count": 40,
     "metadata": {},
     "output_type": "execute_result"
    }
   ],
   "source": [
    "#Check data set \n",
    "test_x.head(10)"
   ]
  },
  {
   "cell_type": "code",
   "execution_count": null,
   "id": "28513209",
   "metadata": {},
   "outputs": [],
   "source": [
    "#Optional pipeline for transforming variables. Improves model predictions greatly but at the cost of easy interpretation.\n",
    "#Ensure to properly explore data to determine changes\n",
    "#for col in binary_columns:\n",
    "#    categorical_columns.remove(col)\n",
    "\n",
    "# Identify the numerical columns\n",
    "numeric_columns = train_inputs.select_dtypes(include=[np.number]).columns.to_list()\n",
    "\n",
    "# Identify the categorical columns\n",
    "categorical_columns = train_inputs.select_dtypes('object').columns.to_list()\n",
    "\n",
    "binary = train_inputs.select_dtypes('boolean').columns.to_list()\n",
    "#Alternate method to identify binary columns and remove from inclusion in other lists. \n",
    "binary_columns = []\n",
    "for column in numerical_columns:\n",
    "    if len(pd.unique(df[column])) <= 2:\n",
    "        binary_columns.append(column)\n",
    "        numerical_columns.remove(column)\n",
    "#Check the contents of each column\n",
    "binary_columns\n",
    "numeric_columns\n",
    "categorical_columns\n",
    "#Creating my pipeline\n",
    "numeric_transformer = Pipeline(steps=[\n",
    "                ('imputer', SimpleImputer(strategy='mean')),\n",
    "                ('scaler', StandardScaler())])\n",
    "categorical_transformer = Pipeline(steps=[\n",
    "    ('imputer', SimpleImputer(strategy='constant', fill_value='unknown')),\n",
    "    ('onehot', OneHotEncoder(handle_unknown='ignore'))])\n",
    "preprocessor = ColumnTransformer([\n",
    "        ('num', numeric_transformer, numeric_columns),\n",
    "        ('cat', categorical_transformer, categorical_columns),\n",
    "        ('binary', binary_transformer, binary_columns)],\n",
    "        remainder='passthrough')\n",
    "train_x = preprocessor.fit_transform(train_inputs)\n",
    "test_x = preprocessor.transform(test_inputs)\n"
   ]
  },
  {
   "cell_type": "code",
   "execution_count": 43,
   "id": "a39b8ccd",
   "metadata": {},
   "outputs": [],
   "source": [
    "#Convert back to dataframes\n",
    "x = pd.DataFrame(train_x)\n",
    "y = pd.DataFrame(train_y)"
   ]
  },
  {
   "cell_type": "code",
   "execution_count": 44,
   "id": "f6bd66f6",
   "metadata": {},
   "outputs": [
    {
     "data": {
      "text/html": [
       "<table class=\"simpletable\">\n",
       "<caption>OLS Regression Results</caption>\n",
       "<tr>\n",
       "  <th>Dep. Variable:</th>          <td>Price</td>      <th>  R-squared:         </th> <td>   0.857</td>\n",
       "</tr>\n",
       "<tr>\n",
       "  <th>Model:</th>                   <td>OLS</td>       <th>  Adj. R-squared:    </th> <td>   0.845</td>\n",
       "</tr>\n",
       "<tr>\n",
       "  <th>Method:</th>             <td>Least Squares</td>  <th>  F-statistic:       </th> <td>   69.29</td>\n",
       "</tr>\n",
       "<tr>\n",
       "  <th>Date:</th>             <td>Mon, 28 Mar 2022</td> <th>  Prob (F-statistic):</th> <td>1.53e-31</td>\n",
       "</tr>\n",
       "<tr>\n",
       "  <th>Time:</th>                 <td>14:49:43</td>     <th>  Log-Likelihood:    </th> <td> -948.24</td>\n",
       "</tr>\n",
       "<tr>\n",
       "  <th>No. Observations:</th>      <td>    89</td>      <th>  AIC:               </th> <td>   1912.</td>\n",
       "</tr>\n",
       "<tr>\n",
       "  <th>Df Residuals:</th>          <td>    81</td>      <th>  BIC:               </th> <td>   1932.</td>\n",
       "</tr>\n",
       "<tr>\n",
       "  <th>Df Model:</th>              <td>     7</td>      <th>                     </th>     <td> </td>   \n",
       "</tr>\n",
       "<tr>\n",
       "  <th>Covariance Type:</th>      <td>nonrobust</td>    <th>                     </th>     <td> </td>   \n",
       "</tr>\n",
       "</table>\n",
       "<table class=\"simpletable\">\n",
       "<tr>\n",
       "           <td></td>             <th>coef</th>     <th>std err</th>      <th>t</th>      <th>P>|t|</th>  <th>[0.025</th>    <th>0.975]</th>  \n",
       "</tr>\n",
       "<tr>\n",
       "  <th>SqFt</th>               <td>   52.1603</td> <td>    7.521</td> <td>    6.935</td> <td> 0.000</td> <td>   37.196</td> <td>   67.125</td>\n",
       "</tr>\n",
       "<tr>\n",
       "  <th>Bedrooms</th>           <td> 5861.4653</td> <td> 2122.431</td> <td>    2.762</td> <td> 0.007</td> <td> 1638.494</td> <td> 1.01e+04</td>\n",
       "</tr>\n",
       "<tr>\n",
       "  <th>Bathrooms</th>          <td> 7489.4754</td> <td> 2593.059</td> <td>    2.888</td> <td> 0.005</td> <td> 2330.101</td> <td> 1.26e+04</td>\n",
       "</tr>\n",
       "<tr>\n",
       "  <th>Offers</th>             <td>-8126.4997</td> <td> 1428.158</td> <td>   -5.690</td> <td> 0.000</td> <td> -1.1e+04</td> <td>-5284.914</td>\n",
       "</tr>\n",
       "<tr>\n",
       "  <th>Brick_No</th>           <td>  559.1802</td> <td> 7431.827</td> <td>    0.075</td> <td> 0.940</td> <td>-1.42e+04</td> <td> 1.53e+04</td>\n",
       "</tr>\n",
       "<tr>\n",
       "  <th>Brick_Yes</th>          <td> 1.755e+04</td> <td> 7748.243</td> <td>    2.265</td> <td> 0.026</td> <td> 2135.122</td> <td>  3.3e+04</td>\n",
       "</tr>\n",
       "<tr>\n",
       "  <th>Neighborhood_East</th>  <td>-1015.5705</td> <td> 5189.021</td> <td>   -0.196</td> <td> 0.845</td> <td>-1.13e+04</td> <td> 9308.954</td>\n",
       "</tr>\n",
       "<tr>\n",
       "  <th>Neighborhood_North</th> <td>  112.9977</td> <td> 4503.439</td> <td>    0.025</td> <td> 0.980</td> <td>-8847.433</td> <td> 9073.428</td>\n",
       "</tr>\n",
       "<tr>\n",
       "  <th>Neighborhood_West</th>  <td> 1.901e+04</td> <td> 6400.939</td> <td>    2.970</td> <td> 0.004</td> <td> 6277.588</td> <td> 3.17e+04</td>\n",
       "</tr>\n",
       "</table>\n",
       "<table class=\"simpletable\">\n",
       "<tr>\n",
       "  <th>Omnibus:</th>       <td> 1.081</td> <th>  Durbin-Watson:     </th> <td>   2.367</td>\n",
       "</tr>\n",
       "<tr>\n",
       "  <th>Prob(Omnibus):</th> <td> 0.582</td> <th>  Jarque-Bera (JB):  </th> <td>   0.560</td>\n",
       "</tr>\n",
       "<tr>\n",
       "  <th>Skew:</th>          <td> 0.095</td> <th>  Prob(JB):          </th> <td>   0.756</td>\n",
       "</tr>\n",
       "<tr>\n",
       "  <th>Kurtosis:</th>      <td> 3.339</td> <th>  Cond. No.          </th> <td>2.32e+19</td>\n",
       "</tr>\n",
       "</table><br/><br/>Notes:<br/>[1] Standard Errors assume that the covariance matrix of the errors is correctly specified.<br/>[2] The smallest eigenvalue is 6.66e-31. This might indicate that there are<br/>strong multicollinearity problems or that the design matrix is singular."
      ],
      "text/plain": [
       "<class 'statsmodels.iolib.summary.Summary'>\n",
       "\"\"\"\n",
       "                            OLS Regression Results                            \n",
       "==============================================================================\n",
       "Dep. Variable:                  Price   R-squared:                       0.857\n",
       "Model:                            OLS   Adj. R-squared:                  0.845\n",
       "Method:                 Least Squares   F-statistic:                     69.29\n",
       "Date:                Mon, 28 Mar 2022   Prob (F-statistic):           1.53e-31\n",
       "Time:                        14:49:43   Log-Likelihood:                -948.24\n",
       "No. Observations:                  89   AIC:                             1912.\n",
       "Df Residuals:                      81   BIC:                             1932.\n",
       "Df Model:                           7                                         \n",
       "Covariance Type:            nonrobust                                         \n",
       "======================================================================================\n",
       "                         coef    std err          t      P>|t|      [0.025      0.975]\n",
       "--------------------------------------------------------------------------------------\n",
       "SqFt                  52.1603      7.521      6.935      0.000      37.196      67.125\n",
       "Bedrooms            5861.4653   2122.431      2.762      0.007    1638.494    1.01e+04\n",
       "Bathrooms           7489.4754   2593.059      2.888      0.005    2330.101    1.26e+04\n",
       "Offers             -8126.4997   1428.158     -5.690      0.000    -1.1e+04   -5284.914\n",
       "Brick_No             559.1802   7431.827      0.075      0.940   -1.42e+04    1.53e+04\n",
       "Brick_Yes           1.755e+04   7748.243      2.265      0.026    2135.122     3.3e+04\n",
       "Neighborhood_East  -1015.5705   5189.021     -0.196      0.845   -1.13e+04    9308.954\n",
       "Neighborhood_North   112.9977   4503.439      0.025      0.980   -8847.433    9073.428\n",
       "Neighborhood_West   1.901e+04   6400.939      2.970      0.004    6277.588    3.17e+04\n",
       "==============================================================================\n",
       "Omnibus:                        1.081   Durbin-Watson:                   2.367\n",
       "Prob(Omnibus):                  0.582   Jarque-Bera (JB):                0.560\n",
       "Skew:                           0.095   Prob(JB):                        0.756\n",
       "Kurtosis:                       3.339   Cond. No.                     2.32e+19\n",
       "==============================================================================\n",
       "\n",
       "Notes:\n",
       "[1] Standard Errors assume that the covariance matrix of the errors is correctly specified.\n",
       "[2] The smallest eigenvalue is 6.66e-31. This might indicate that there are\n",
       "strong multicollinearity problems or that the design matrix is singular.\n",
       "\"\"\""
      ]
     },
     "execution_count": 44,
     "metadata": {},
     "output_type": "execute_result"
    }
   ],
   "source": [
    "#Evalute the model and print statistics\n",
    "import statsmodels.api as sm\n",
    "\n",
    "regr = LinearRegression()\n",
    "model = regr.fit(train_y, train_x)\n",
    "\n",
    "from statsmodels.api import OLS\n",
    "OLS(train_y, train_x).fit().summary()\n",
    " "
   ]
  },
  {
   "cell_type": "code",
   "execution_count": null,
   "id": "24837ec1",
   "metadata": {},
   "outputs": [],
   "source": [
    "#Calculate our target value\n",
    "mean_value = np.mean(train_y['Price'])\n",
    "mean_value\n",
    "\n",
    "from sklearn.metrics import mean_squared_error\n",
    "baseline_pred = np.repeat(mean_value, len(test_y))\n",
    "baseline_pred\n",
    "baseline_mse = mean_squared_error(test_y, baseline_pred)\n",
    "\n",
    "baseline_rmse = np.sqrt(baseline_mse)\n",
    "#This will be our baseline to evaluate our model against\n",
    "print('Baseline RMSE: {}' .format(baseline_rmse))\n",
    "print(regr.coef_)\n",
    "print(regr.intercept_)\n",
    "print(regr.score(train_x, train_y))"
   ]
  },
  {
   "cell_type": "code",
   "execution_count": null,
   "id": "b35cad54",
   "metadata": {},
   "outputs": [],
   "source": [
    "#Create predictions\n",
    "y_pred = regr.predict(test_x)\n",
    "\n",
    "r_sq = regr.score(test_x, test_y)\n",
    "\n",
    "cdf = pd.DataFrame(regr.coef_,test_x.columns,columns=['Coeff'])\n",
    "cdf\n",
    "print('coefficient of determination:', r_sq)\n",
    "print('intercept:', regr.intercept_)\n",
    "print('slope:', regr.coef_)"
   ]
  },
  {
   "cell_type": "code",
   "execution_count": null,
   "id": "af317bb8",
   "metadata": {},
   "outputs": [],
   "source": [
    "#Support Vector Machine with Linear SVR\n",
    "from sklearn.svm import LinearSVR \n",
    "\n",
    "svm_reg = LinearSVR(C=100, epsilon=0.5, max_iter=10000) \n",
    "\n",
    "svm_reg.fit(train_x, train_y)"
   ]
  },
  {
   "cell_type": "code",
   "execution_count": null,
   "id": "58d3919a",
   "metadata": {},
   "outputs": [],
   "source": [
    "#Train RMSE\n",
    "svm_train_pred = svm_reg.predict(train_x)\n",
    "\n",
    "train_mse = mean_squared_error(train_y, svm_train_pred)\n",
    "\n",
    "train_rmse = np.sqrt(train_mse)\n",
    "\n",
    "print(f'Train RMSE: {train_rmse}')"
   ]
  },
  {
   "cell_type": "code",
   "execution_count": null,
   "id": "a7e95035",
   "metadata": {},
   "outputs": [],
   "source": [
    "#Test RMSE\n",
    "svm_test_pred = svm_reg.predict(test_x)\n",
    "\n",
    "test_mse = mean_squared_error(test_y, svm_test_pred)\n",
    "\n",
    "test_rmse = np.sqrt(test_mse)\n",
    "\n",
    "print(f'Test RMSE: {test_rmse}')"
   ]
  },
  {
   "cell_type": "code",
   "execution_count": null,
   "id": "3949785e",
   "metadata": {},
   "outputs": [],
   "source": [
    "#SVR with 'RBF' Kernal"
   ]
  },
  {
   "cell_type": "code",
   "execution_count": null,
   "id": "0cbc2ade",
   "metadata": {},
   "outputs": [],
   "source": [
    "#Tends to have the best performance for SVR kernals\n",
    "from sklearn.svm import SVR \n",
    "\n",
    "svm_rbf_reg = SVR(kernel=\"rbf\", C=100, epsilon=0.01, gamma='scale') \n",
    "\n",
    "svm_rbf_reg.fit(train_x, train_y)"
   ]
  },
  {
   "cell_type": "code",
   "execution_count": null,
   "id": "0974c331",
   "metadata": {},
   "outputs": [],
   "source": [
    "#Train RMSE\n",
    "svm_train_pred = svm_rbf_reg.predict(train_x)\n",
    "\n",
    "train_mse = mean_squared_error(train_y, svm_train_pred)\n",
    "\n",
    "train_rmse = np.sqrt(train_mse)\n",
    "\n",
    "print(f'Train RMSE: {train_rmse}')"
   ]
  },
  {
   "cell_type": "code",
   "execution_count": null,
   "id": "b0abe0c3",
   "metadata": {},
   "outputs": [],
   "source": [
    "svm_test_pred = svm_rbf_reg.predict(test_x)\n",
    "\n",
    "test_mse = mean_squared_error(test_y, svm_test_pred)\n",
    "\n",
    "test_rmse = np.sqrt(test_mse)\n",
    "\n",
    "print(f'Test RMSE: {test_rmse}')"
   ]
  }
 ],
 "metadata": {
  "kernelspec": {
   "display_name": "Python 3 (ipykernel)",
   "language": "python",
   "name": "python3"
  },
  "language_info": {
   "codemirror_mode": {
    "name": "ipython",
    "version": 3
   },
   "file_extension": ".py",
   "mimetype": "text/x-python",
   "name": "python",
   "nbconvert_exporter": "python",
   "pygments_lexer": "ipython3",
   "version": "3.8.8"
  }
 },
 "nbformat": 4,
 "nbformat_minor": 5
}
